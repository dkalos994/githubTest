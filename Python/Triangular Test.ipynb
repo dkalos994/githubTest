{
 "cells": [
  {
   "cell_type": "code",
   "execution_count": 14,
   "id": "2fe8740c",
   "metadata": {},
   "outputs": [
    {
     "name": "stdout",
     "output_type": "stream",
     "text": [
      "[[{2} None None None None]\n",
      " [{3} {3} None None None]\n",
      " [{4} {4} {4} None None]\n",
      " [{5} {5} {5} {5} None]\n",
      " [{6} {6} {6} {6} {6}]]\n"
     ]
    }
   ],
   "source": [
    "import numpy as np\n",
    "\n",
    "x = 5\n",
    "vertical_names = np.arange(1, x + 1)\n",
    "horizontal_names = [ {1 + i} for i in vertical_names]\n",
    "\n",
    "triangle_test = np.empty((x, x), dtype=object)\n",
    "\n",
    "# Assigning names\n",
    "for i in range(len(vertical_names)):\n",
    "    triangle_test[i, :i + 1] = horizontal_names[i]\n",
    "\n",
    "# Printing the triangular matrix\n",
    "print(triangle_test)\n"
   ]
  },
  {
   "cell_type": "code",
   "execution_count": 15,
   "id": "b66f2877",
   "metadata": {},
   "outputs": [
    {
     "name": "stdout",
     "output_type": "stream",
     "text": [
      "[[{2} None None None None]\n",
      " [{3} {3} None None None]\n",
      " [{4} {4} {4} None None]\n",
      " [{5} {5} {5} {5} None]\n",
      " [{6} {6} {6} {6} {6}]]\n"
     ]
    }
   ],
   "source": [
    "import numpy as np\n",
    "\n",
    "x = 5\n",
    "vertical_names = np.arange(1, x + 1)\n",
    "horizontal_names = [set([1 + i]) for i in vertical_names]\n",
    "\n",
    "triangle_test = np.empty((x, x), dtype=object)\n",
    "\n",
    "# Assigning names\n",
    "for i in range(len(vertical_names)):\n",
    "    triangle_test[i, :i + 1] = horizontal_names[i]\n",
    "\n",
    "# Printing the triangular matrix\n",
    "print(triangle_test)\n"
   ]
  },
  {
   "cell_type": "code",
   "execution_count": 16,
   "id": "e37f2298",
   "metadata": {},
   "outputs": [
    {
     "name": "stdout",
     "output_type": "stream",
     "text": [
      "[[{2} set() set() set() set()]\n",
      " [{3} {3} set() set() set()]\n",
      " [{4} {4} {4} set() set()]\n",
      " [{5} {5} {5} {5} set()]\n",
      " [{6} {6} {6} {6} {6}]]\n"
     ]
    }
   ],
   "source": [
    "import numpy as np\n",
    "\n",
    "x = 5\n",
    "vertical_names = np.arange(1, x + 1)\n",
    "horizontal_names = [set([1 + i]) for i in vertical_names]\n",
    "\n",
    "triangle_test = np.empty((x, x), dtype=object)\n",
    "\n",
    "# Assigning names\n",
    "for i in range(len(vertical_names)):\n",
    "    triangle_test[i, :i + 1] = horizontal_names[i]\n",
    "\n",
    "# Replace None with empty set\n",
    "triangle_test[triangle_test == None] = set()\n",
    "\n",
    "# Printing the triangular matrix\n",
    "print(triangle_test)\n"
   ]
  },
  {
   "cell_type": "code",
   "execution_count": 17,
   "id": "59875ac9",
   "metadata": {},
   "outputs": [
    {
     "name": "stdout",
     "output_type": "stream",
     "text": [
      "[[{2} '' '' '' '']\n",
      " [{3} {3} '' '' '']\n",
      " [{4} {4} {4} '' '']\n",
      " [{5} {5} {5} {5} '']\n",
      " [{6} {6} {6} {6} {6}]]\n"
     ]
    }
   ],
   "source": [
    "import numpy as np\n",
    "\n",
    "x = 5\n",
    "vertical_names = np.arange(1, x + 1)\n",
    "horizontal_names = [set([1 + i]) for i in vertical_names]\n",
    "\n",
    "triangle_test = np.empty((x, x), dtype=object)\n",
    "triangle_test[:] = ''  # Initialize with empty strings\n",
    "\n",
    "# Assigning names\n",
    "for i in range(len(vertical_names)):\n",
    "    triangle_test[i, :i + 1] = horizontal_names[i]\n",
    "\n",
    "# Printing the triangular matrix\n",
    "print(triangle_test)\n"
   ]
  },
  {
   "cell_type": "code",
   "execution_count": 25,
   "id": "0376c662",
   "metadata": {},
   "outputs": [
    {
     "name": "stdout",
     "output_type": "stream",
     "text": [
      "[[{1} 0 0 0 0]\n",
      " [{2} {2} 0 0 0]\n",
      " [{3} {3} {3} 0 0]\n",
      " [{4} {4} {4} {4} 0]\n",
      " [{5} {5} {5} {5} {5}]]\n"
     ]
    }
   ],
   "source": [
    "import numpy as np\n",
    "\n",
    "x = 5\n",
    "vertical_names = np.arange(1, x + 1)\n",
    "horizontal_names = [set([i]) for i in vertical_names]\n",
    "\n",
    "default_value = 0  # Set your desired default value\n",
    "\n",
    "triangle_test = np.full((x, x), default_value, dtype=object)\n",
    "\n",
    "# Assigning names\n",
    "for i in range(len(vertical_names)):\n",
    "    triangle_test[i, :i + 1] = horizontal_names[i]\n",
    "\n",
    "# Printing the triangular matrix\n",
    "print(triangle_test)\n"
   ]
  },
  {
   "cell_type": "code",
   "execution_count": null,
   "id": "c9efa27b",
   "metadata": {},
   "outputs": [],
   "source": []
  }
 ],
 "metadata": {
  "kernelspec": {
   "display_name": "Python 3 (ipykernel)",
   "language": "python",
   "name": "python3"
  },
  "language_info": {
   "codemirror_mode": {
    "name": "ipython",
    "version": 3
   },
   "file_extension": ".py",
   "mimetype": "text/x-python",
   "name": "python",
   "nbconvert_exporter": "python",
   "pygments_lexer": "ipython3",
   "version": "3.11.5"
  }
 },
 "nbformat": 4,
 "nbformat_minor": 5
}
